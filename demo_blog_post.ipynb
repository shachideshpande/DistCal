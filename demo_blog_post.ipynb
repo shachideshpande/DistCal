{
 "cells": [
  {
   "cell_type": "markdown",
   "metadata": {},
   "source": [
    "### Skeleton for the blog post\n",
    "1. Introduction: Provide a motivation for calibration. Provide example applications where calibration matters. Explain calibration and sharpness to characterize accurate probabilistic forecast. \n",
    "2. Background: Explain the ideas behind quantile and distribution calibration.  \n",
    "    1. Mathematical definitions. Why is distribution calibration a stronger condition as compared to quantile calibration? \n",
    "    2. How does our idea compare with previous approaches to quantile/distribution calibration within this framework\n",
    "    3. Evaluation of calibration\n",
    "        - Revisit examples of proper loss functions\n",
    "5. Recalibration as density estimation\n",
    "    1. Explain the idea in simple words (no theoretical results)\n",
    "    2. Provide and explain the main algorithm\n",
    "    3. Provide/explain algorithms for specific use cases (quantile function regression and distribution calibrated classification)\n",
    "6. Examples (worked out with our DistCal library code)\n",
    "    1. Distribution calibrated regression \n",
    "        - Options\n",
    "            - Bayesian Ridge regression as base model trained on the UCI housing regression dataset (we have this example in the repo already)\n",
    "            - Bayesian Neural Network as base model trained on the UCI housing regression dataset (code for this will need to be written)\n",
    "        - Evaluation using check score and MAE to show that calibration improves without compromising MAE\n",
    "        - Any visualizations? \n",
    "    2. Distribution calibrated classification\n",
    "        - Options \n",
    "            - Logistic Regression as base model trained on a UCI classification dataset (we have this example in the repo already)\n",
    "            - CNN as base model and MNIST/SVHN as the dataset (code for this will need to be written)\n",
    "        - Evaluation using calibration score and accuracy to show that we improve the calibration score without compromising accuracy\n",
    "        - Any visualizations (for example, calibration plot with a histogram of number of data-points within each bucket)\n",
    "    \n",
    "7. Conclusions and closing thoughts\n"
   ]
  },
  {
   "cell_type": "markdown",
   "metadata": {},
   "source": []
  }
 ],
 "metadata": {
  "kernelspec": {
   "display_name": "torchuq",
   "language": "python",
   "name": "python3"
  },
  "language_info": {
   "codemirror_mode": {
    "name": "ipython",
    "version": 3
   },
   "file_extension": ".py",
   "mimetype": "text/x-python",
   "name": "python",
   "nbconvert_exporter": "python",
   "pygments_lexer": "ipython3",
   "version": "3.9.0"
  }
 },
 "nbformat": 4,
 "nbformat_minor": 2
}
