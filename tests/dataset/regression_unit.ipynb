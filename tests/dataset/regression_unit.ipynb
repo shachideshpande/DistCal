{
 "cells": [
  {
   "cell_type": "code",
   "execution_count": 1,
   "id": "tender-montana",
   "metadata": {},
   "outputs": [],
   "source": [
    "import sys\n",
    "sys.path.append('../../')"
   ]
  },
  {
   "cell_type": "code",
   "execution_count": 2,
   "id": "adjusted-passing",
   "metadata": {},
   "outputs": [],
   "source": [
    "from torchuq.dataset.regression import *"
   ]
  },
  {
   "cell_type": "code",
   "execution_count": 3,
   "id": "pediatric-batch",
   "metadata": {},
   "outputs": [
    {
     "name": "stdout",
     "output_type": "stream",
     "text": [
      "blog (52397, 280) 0 0\n",
      "boston (506, 13) 0 0\n",
      "concrete (1030, 8) 0 0\n",
      "crime (1993, 100) 0 0\n",
      "energy-efficiency (768, 8) 0 0\n",
      "fb-comment1 (40949, 53) 0 0\n",
      "fb-comment2 (81312, 53) 0 0\n",
      "forest-fires (517, 21) 0 0\n",
      "kin8nm (8192, 8) 0 0\n",
      "medical-expenditure (33005, 107) 0 0\n",
      "mpg (392, 9) 0 0\n",
      "naval (11934, 16) 0 0\n",
      "power-plant (9568, 4) 0 0\n",
      "protein (45730, 9) 0 0\n",
      "superconductivity (21263, 81) 0 0\n",
      "wine (1599, 11) 0 0\n",
      "yacht (308, 6) 0 0\n"
     ]
    }
   ],
   "source": [
    "for k in regression_load_funs:\n",
    "    X, y = regression_load_funs[k]()\n",
    "    print(k, X.shape, np.isnan(X).sum(), np.isnan(y).sum())"
   ]
  },
  {
   "cell_type": "code",
   "execution_count": 4,
   "id": "comprehensive-pixel",
   "metadata": {},
   "outputs": [
    {
     "name": "stdout",
     "output_type": "stream",
     "text": [
      "0.0 0.0\n",
      "Loading dataset boston....\n",
      "Splitting into train/val/test with 506/0/0 samples\n",
      "Done loading dataset boston\n",
      "No val\n",
      "0.0 0.1\n",
      "Loading dataset boston....\n",
      "Splitting into train/val/test with 455/0/51 samples\n",
      "Done loading dataset boston\n",
      "No val\n",
      "0.0 0.2\n",
      "Loading dataset boston....\n",
      "Splitting into train/val/test with 405/0/101 samples\n",
      "Done loading dataset boston\n",
      "No val\n",
      "0.1 0.0\n",
      "Loading dataset boston....\n",
      "Splitting into train/val/test with 455/51/0 samples\n",
      "Done loading dataset boston\n",
      "No test\n",
      "0.1 0.1\n",
      "Loading dataset boston....\n",
      "Splitting into train/val/test with 404/51/51 samples\n",
      "Done loading dataset boston\n",
      "404 51 51\n",
      "0.1 0.2\n",
      "Loading dataset boston....\n",
      "Splitting into train/val/test with 354/51/101 samples\n",
      "Done loading dataset boston\n",
      "354 51 101\n",
      "0.2 0.0\n",
      "Loading dataset boston....\n",
      "Splitting into train/val/test with 405/101/0 samples\n",
      "Done loading dataset boston\n",
      "No test\n",
      "0.2 0.1\n",
      "Loading dataset boston....\n",
      "Splitting into train/val/test with 354/101/51 samples\n",
      "Done loading dataset boston\n",
      "354 101 51\n",
      "0.2 0.2\n",
      "Loading dataset boston....\n",
      "Splitting into train/val/test with 304/101/101 samples\n",
      "Done loading dataset boston\n",
      "304 101 101\n",
      "Loading dataset boston....\n",
      "Assert successful\n"
     ]
    }
   ],
   "source": [
    "# Test the splitting function \n",
    "val_fractions = [0.0, 0.1, 0.2]\n",
    "test_fractions = [0.0, 0.1, 0.2]\n",
    "for val_size in val_fractions:\n",
    "    for test_size in test_fractions:\n",
    "        print(val_size, test_size)\n",
    "        train, val, test = get_regression_datasets('boston', val_fraction=val_size, test_fraction=test_size)\n",
    "        if val is None:\n",
    "            print(\"No val\")\n",
    "        elif test is None:\n",
    "            print(\"No test\")\n",
    "        else:\n",
    "            print(len(train), len(val), len(test))\n",
    "        \n",
    "# This should trigger an assert \n",
    "try:\n",
    "    get_regression_datasets('boston', val_fraction=0.6, test_fraction=0.6)\n",
    "except:\n",
    "    print(\"Assert successful\")"
   ]
  },
  {
   "cell_type": "code",
   "execution_count": null,
   "id": "meaningful-settlement",
   "metadata": {},
   "outputs": [],
   "source": []
  }
 ],
 "metadata": {
  "kernelspec": {
   "display_name": "Python 3",
   "language": "python",
   "name": "python3"
  },
  "language_info": {
   "codemirror_mode": {
    "name": "ipython",
    "version": 3
   },
   "file_extension": ".py",
   "mimetype": "text/x-python",
   "name": "python",
   "nbconvert_exporter": "python",
   "pygments_lexer": "ipython3",
   "version": "3.8.3"
  }
 },
 "nbformat": 4,
 "nbformat_minor": 5
}
