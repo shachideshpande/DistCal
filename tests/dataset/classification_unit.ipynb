{
 "cells": [
  {
   "cell_type": "code",
   "execution_count": 1,
   "id": "approved-worker",
   "metadata": {},
   "outputs": [],
   "source": [
    "import sys\n",
    "sys.path.append('../../')"
   ]
  },
  {
   "cell_type": "code",
   "execution_count": 2,
   "id": "exotic-tennessee",
   "metadata": {},
   "outputs": [],
   "source": [
    "from torchuq.dataset.classification import *"
   ]
  },
  {
   "cell_type": "code",
   "execution_count": 3,
   "id": "three-flooring",
   "metadata": {},
   "outputs": [
    {
     "name": "stdout",
     "output_type": "stream",
     "text": [
      "adult (32561, 105) 0 0\n",
      "int64 1 0 2\n",
      "breast-cancer (569, 30) 0 0\n",
      "int64 1 0 2\n",
      "covtype (581012, 54) 0 0\n",
      "int32 6 0 7\n",
      "digits (1797, 64) 0 0\n",
      "int64 9 0 10\n",
      "iris (150, 4) 0 0\n",
      "int64 2 0 3\n"
     ]
    }
   ],
   "source": [
    "for k in classification_load_funs:\n",
    "    X, y = classification_load_funs[k]()\n",
    "    print(k, X.shape, np.isnan(X).sum(), np.isnan(y).sum())\n",
    "    print(y.dtype, y.max(), y.min(), dataset_nclasses[k])\n",
    "    assert y.min() == 0\n",
    "    assert y.max() == dataset_nclasses[k] - 1"
   ]
  },
  {
   "cell_type": "code",
   "execution_count": 4,
   "id": "governing-speaking",
   "metadata": {},
   "outputs": [
    {
     "name": "stdout",
     "output_type": "stream",
     "text": [
      "0.0 0.0\n",
      "Loading dataset adult....\n",
      "Splitting into train/val/test with 32561/0/0 samples\n",
      "Done loading dataset adult\n",
      "No val\n",
      "0.0 0.1\n",
      "Loading dataset adult....\n",
      "Splitting into train/val/test with 29305/0/3256 samples\n",
      "Done loading dataset adult\n",
      "No val\n",
      "0.0 0.2\n",
      "Loading dataset adult....\n",
      "Splitting into train/val/test with 26049/0/6512 samples\n",
      "Done loading dataset adult\n",
      "No val\n",
      "0.1 0.0\n",
      "Loading dataset adult....\n",
      "Splitting into train/val/test with 29305/3256/0 samples\n",
      "Done loading dataset adult\n",
      "No test\n",
      "0.1 0.1\n",
      "Loading dataset adult....\n",
      "Splitting into train/val/test with 26049/3256/3256 samples\n",
      "Done loading dataset adult\n",
      "26049 3256 3256\n",
      "0.1 0.2\n",
      "Loading dataset adult....\n",
      "Splitting into train/val/test with 22793/3256/6512 samples\n",
      "Done loading dataset adult\n",
      "22793 3256 6512\n",
      "0.2 0.0\n",
      "Loading dataset adult....\n",
      "Splitting into train/val/test with 26049/6512/0 samples\n",
      "Done loading dataset adult\n",
      "No test\n",
      "0.2 0.1\n",
      "Loading dataset adult....\n",
      "Splitting into train/val/test with 22793/6512/3256 samples\n",
      "Done loading dataset adult\n",
      "22793 6512 3256\n",
      "0.2 0.2\n",
      "Loading dataset adult....\n",
      "Splitting into train/val/test with 19537/6512/6512 samples\n",
      "Done loading dataset adult\n",
      "19537 6512 6512\n",
      "Loading dataset adult....\n",
      "Assert successful\n"
     ]
    }
   ],
   "source": [
    "# Test the splitting function \n",
    "val_fractions = [0.0, 0.1, 0.2]\n",
    "test_fractions = [0.0, 0.1, 0.2]\n",
    "for val_size in val_fractions:\n",
    "    for test_size in test_fractions:\n",
    "        print(val_size, test_size)\n",
    "        train, val, test = get_classification_datasets('adult', val_fraction=val_size, test_fraction=test_size)\n",
    "        if val is None:\n",
    "            print(\"No val\")\n",
    "        elif test is None:\n",
    "            print(\"No test\")\n",
    "        else:\n",
    "            print(len(train), len(val), len(test))\n",
    "        \n",
    "# This should trigger an assert \n",
    "try:\n",
    "    get_classification_datasets('adult', val_fraction=0.6, test_fraction=0.6)\n",
    "except:\n",
    "    print(\"Assert successful\")"
   ]
  },
  {
   "cell_type": "code",
   "execution_count": null,
   "id": "prescription-delhi",
   "metadata": {},
   "outputs": [],
   "source": []
  }
 ],
 "metadata": {
  "kernelspec": {
   "display_name": "Python 3",
   "language": "python",
   "name": "python3"
  },
  "language_info": {
   "codemirror_mode": {
    "name": "ipython",
    "version": 3
   },
   "file_extension": ".py",
   "mimetype": "text/x-python",
   "name": "python",
   "nbconvert_exporter": "python",
   "pygments_lexer": "ipython3",
   "version": "3.8.3"
  }
 },
 "nbformat": 4,
 "nbformat_minor": 5
}
