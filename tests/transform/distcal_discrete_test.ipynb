{
 "cells": [
  {
   "cell_type": "code",
   "execution_count": 9,
   "id": "3bdf1a8a-66d7-4b4f-b3ac-2f1a9230cec8",
   "metadata": {},
   "outputs": [],
   "source": [
    "import torch\n",
    "import sys\n",
    "sys.path.append('../..')\n",
    "\n",
    "from torchuq.transform.distcal_discrete import *\n",
    "from torchuq.evaluate.distribution_cal import *\n",
    "from torchuq.dataset.classification import *\n",
    "from sklearn.linear_model import LogisticRegression\n",
    "from torchuq.evaluate import categorical\n",
    "from matplotlib import pyplot as plt"
   ]
  },
  {
   "cell_type": "code",
   "execution_count": 10,
   "id": "3f11d651",
   "metadata": {},
   "outputs": [],
   "source": [
    "\n",
    "\n",
    "uci_datasets = ['digits', 'adult', 'iris', 'breast-cancer']\n",
    "subset_uci = ['digits']\n"
   ]
  },
  {
   "cell_type": "code",
   "execution_count": 7,
   "id": "365a8188",
   "metadata": {},
   "outputs": [
    {
     "name": "stdout",
     "output_type": "stream",
     "text": [
      "Loading dataset adult....\n",
      "Splitting into train/val/test with 19537/6512/6512 samples\n",
      "Done loading dataset adult\n",
      "LR Train + test scores 0.8459845421507908 0.8538083538083538\n",
      "[Cal] comparing log loss 0.3388117049331117 0.35355412679534826\n",
      "[Cal] comparing calibration plots 0.2615702801851912 0.24089886084725295\n",
      "[Test] comparing log loss 0.3209573961365611 0.33681698013805067\n",
      "[Test] comparing calibration plots 0.251880504359195 0.22676487763709735\n",
      "Loading dataset iris....\n",
      "Splitting into train/val/test with 90/30/30 samples\n",
      "Done loading dataset iris\n",
      "LR Train + test scores 0.9777777777777777 0.9\n",
      "[Cal] comparing log loss 0.18161406212796768 0.12677776548009867\n",
      "[Cal] comparing calibration plots 0.19774074074074077 0.11759259259259258\n",
      "[Test] comparing log loss 0.3159977881237864 0.28814987395304326\n",
      "[Test] comparing calibration plots 0.19459259259259262 0.1372962962962963\n",
      "Loading dataset breast-cancer....\n",
      "Splitting into train/val/test with 341/114/114 samples\n",
      "Done loading dataset breast-cancer\n",
      "LR Train + test scores 0.9882697947214076 0.9912280701754386\n",
      "[Cal] comparing log loss 0.09391094538389821 0.0991073659109852\n",
      "[Cal] comparing calibration plots 0.08736825905946768 0.06244153396726659\n",
      "[Test] comparing log loss 0.056205989226029186 0.046580548831854085\n",
      "[Test] comparing calibration plots 0.06202321362038522 0.03899947622210343\n"
     ]
    }
   ],
   "source": [
    "for name in subset_uci:\n",
    "\t# 60% Train, 20% Calibration, 20% Test dataset\n",
    "\tdataset = get_classification_datasets(name, val_fraction=0.2, test_fraction=0.2, split_seed=0, normalize=True, verbose=True)\n",
    "\t\n",
    "\ttrain_dataset, cal_dataset, test_dataset = dataset\n",
    "\tX_train, y_train = train_dataset[:][0], train_dataset[:][1]\n",
    "\tX_cal, y_cal = cal_dataset[:][0], cal_dataset[:][1]\n",
    "\tX_test, y_test = test_dataset[:][0], test_dataset[:][1]\n",
    "\t\n",
    "\t# Simple logistic regression classifier trained\n",
    "\treg = LogisticRegression(random_state=0).fit(X_train, y_train)\n",
    "\tprint(f\"Classification accuracy on Train: {reg.score(X_train, y_train):.2}\")\n",
    "\tprint(f\"Classification accuracy on Test: {reg.score(X_test, y_test):.2}\")\n",
    "\t\n",
    "\n",
    "\n",
    "\t# Predict probabilistic outcome on K classes, on the calibration and test datasets \n",
    "\tpred_cal = torch.Tensor(reg.predict_proba(X_cal.numpy()))\n",
    "\n",
    "\tpred_test = torch.Tensor(reg.predict_proba(X_test.numpy()))\n",
    "\n",
    "\t\n",
    "\n",
    "\t# Use the DiscreteDistCalibrator class and train it on the calibration dataset\n",
    "\n",
    "\tcalibrator = DiscreteDistCalibrator(verbose=True)\n",
    "\tcalibrator.train(pred_cal, torch.Tensor(y_cal))\n",
    "\n",
    "\toutput_cal = calibrator(pred_cal)\n",
    "\toutput_test = calibrator(pred_test)\n",
    "\n",
    "\t# Evaluation\n",
    "\t\n",
    "\tprint(f\"[Calibration Dataset] Log loss before calibration = {discrete_cal_loss(y_cal, pred_cal)}; After calibration={discrete_cal_loss(y_cal, output_cal)}\")\n",
    "\tprint(f\"[Calibration Dataset] Calibration score before calibration = {discrete_cal_score(y_cal, pred_cal)}, After calibration = {discrete_cal_score(y_cal, output_cal)}\")\n",
    "\n",
    "\tprint(f\"[Test Dataset] Log loss before calibration = {discrete_cal_loss(y_test, output_test)}; After calibration={discrete_cal_loss(y_test, output_test)}\")\n",
    "\tprint(f\"[Test Dataset] Calibration score before calibration = {discrete_cal_score(y_test, output_test)}, After calibration = {discrete_cal_score(y_test, output_test)}\")\n",
    "\t"
   ]
  }
 ],
 "metadata": {
  "kernelspec": {
   "display_name": "torchuq",
   "language": "python",
   "name": "python3"
  },
  "language_info": {
   "codemirror_mode": {
    "name": "ipython",
    "version": 3
   },
   "file_extension": ".py",
   "mimetype": "text/x-python",
   "name": "python",
   "nbconvert_exporter": "python",
   "pygments_lexer": "ipython3",
   "version": "3.9.0"
  }
 },
 "nbformat": 4,
 "nbformat_minor": 5
}
