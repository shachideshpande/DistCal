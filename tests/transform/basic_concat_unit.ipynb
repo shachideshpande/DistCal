{
 "cells": [
  {
   "cell_type": "code",
   "execution_count": 306,
   "id": "alert-patio",
   "metadata": {},
   "outputs": [],
   "source": [
    "import torch\n",
    "import sys\n",
    "sys.path.append('../..')\n",
    "from torch.distributions.normal import Normal\n",
    "from torchuq.transform.basic import *"
   ]
  },
  {
   "cell_type": "code",
   "execution_count": 307,
   "id": "italian-litigation",
   "metadata": {},
   "outputs": [],
   "source": [
    "normal = Normal(loc=torch.zeros(2, 2), scale=torch.ones(2, 2))\n",
    "normal2 = Normal(loc=torch.zeros(1, 2), scale=torch.ones(1, 2))"
   ]
  },
  {
   "cell_type": "code",
   "execution_count": 308,
   "id": "running-french",
   "metadata": {},
   "outputs": [],
   "source": [
    "dist = ConcatDistribution([normal, normal2])"
   ]
  },
  {
   "cell_type": "code",
   "execution_count": 309,
   "id": "english-experience",
   "metadata": {},
   "outputs": [
    {
     "name": "stdout",
     "output_type": "stream",
     "text": [
      "torch.Size([3, 2])\n",
      "torch.Size([3, 2])\n",
      "torch.Size([4, 3, 2])\n",
      "torch.Size([4, 3, 2])\n",
      "torch.Size([6, 4, 3, 2])\n",
      "torch.Size([6, 4, 3, 2])\n",
      "torch.Size([6, 4, 3, 2])\n",
      "torch.Size([6, 4, 3, 2])\n"
     ]
    }
   ],
   "source": [
    "print(dist.icdf(torch.ones(1, 1) * 0.5).shape) # Should be [3, 2]\n",
    "print(dist.icdf(torch.ones(3, 2) * 0.5).shape) # Should be [3, 2]\n",
    "print(dist.icdf(torch.ones(4, 1, 1) * 0.5).shape) # Should be [4, 3, 2]\n",
    "print(dist.icdf(torch.ones(4, 3, 2) * 0.5).shape) # Should be [4, 3, 2]\n",
    "print(dist.icdf(torch.ones(6, 4, 1, 2) * 0.5).shape) # Should be [6, 4, 3, 2]\n",
    "print(dist.icdf(torch.ones(6, 4, 1, 2) * 0.5).shape) # Should be [6, 4, 3, 2]\n",
    "print(dist.icdf(torch.ones(6, 4, 3, 1) * 0.5).shape) # Should be [6, 4, 3, 2]\n",
    "print(dist.icdf(torch.ones(6, 4, 3, 2) * 0.5).shape) # Should be [6, 4, 3, 2]"
   ]
  },
  {
   "cell_type": "code",
   "execution_count": 310,
   "id": "needed-medicaid",
   "metadata": {},
   "outputs": [
    {
     "name": "stdout",
     "output_type": "stream",
     "text": [
      "torch.Size([3, 2])\n",
      "torch.Size([3, 2])\n",
      "torch.Size([4, 3, 2])\n",
      "torch.Size([4, 3, 2])\n",
      "torch.Size([6, 4, 3, 2])\n",
      "torch.Size([6, 4, 3, 2])\n",
      "torch.Size([6, 4, 3, 2])\n",
      "torch.Size([6, 4, 3, 2])\n"
     ]
    }
   ],
   "source": [
    "print(dist.cdf(torch.ones(1, 1) * 0.5).shape) # Should be [3, 2]\n",
    "print(dist.cdf(torch.ones(3, 2) * 0.5).shape) # Should be [3, 2]\n",
    "print(dist.cdf(torch.ones(4, 1, 1) * 0.5).shape) # Should be [4, 3, 2]\n",
    "print(dist.cdf(torch.ones(4, 3, 2) * 0.5).shape) # Should be [4, 3, 2]\n",
    "print(dist.cdf(torch.ones(6, 4, 1, 2) * 0.5).shape) # Should be [6, 4, 3, 2]\n",
    "print(dist.cdf(torch.ones(6, 4, 1, 2) * 0.5).shape) # Should be [6, 4, 3, 2]\n",
    "print(dist.cdf(torch.ones(6, 4, 3, 1) * 0.5).shape) # Should be [6, 4, 3, 2]\n",
    "print(dist.cdf(torch.ones(6, 4, 3, 2) * 0.5).shape) # Should be [6, 4, 3, 2]"
   ]
  },
  {
   "cell_type": "code",
   "execution_count": 311,
   "id": "advisory-belle",
   "metadata": {},
   "outputs": [
    {
     "name": "stdout",
     "output_type": "stream",
     "text": [
      "torch.Size([3, 2])\n",
      "torch.Size([5, 4, 3, 2])\n",
      "torch.Size([5, 4, 1, 3, 2])\n",
      "torch.Size([3, 2])\n",
      "torch.Size([5, 4, 3, 2])\n",
      "torch.Size([5, 4, 1, 3, 2])\n",
      "torch.Size([10, 3, 2])\n"
     ]
    },
    {
     "name": "stderr",
     "output_type": "stream",
     "text": [
      "/sailhome/zhaosj12/.pyenv/versions/3.8.3/lib/python3.8/site-packages/torch/distributions/distribution.py:151: UserWarning: sample_n will be deprecated. Use .sample((n,)) instead\n",
      "  warnings.warn('sample_n will be deprecated. Use .sample((n,)) instead', UserWarning)\n"
     ]
    }
   ],
   "source": [
    "print(dist.rsample().shape) # Should be [3, 2]\n",
    "print(dist.rsample([5, 4]).shape) # Should be [5, 4, 3, 2]\n",
    "print(dist.rsample([5, 4, 1]).shape) # Should be [5, 4, 1, 3, 2]\n",
    "print(dist.sample().shape) # Should be [3, 2]\n",
    "print(dist.sample([5, 4]).shape) # Should be [5, 4, 3, 2]\n",
    "print(dist.sample([5, 4, 1]).shape) # Should be [5, 4, 1, 3, 2]\n",
    "print(dist.sample_n(10).shape)  # Should be [10, 3, 2]"
   ]
  },
  {
   "cell_type": "code",
   "execution_count": 312,
   "id": "raised-official",
   "metadata": {},
   "outputs": [],
   "source": [
    "# Test the second order composition \n",
    "normal3 = Normal(loc=torch.zeros(3, 2), scale=torch.ones(3, 2))\n",
    "dist = ConcatDistribution([dist, normal3], dim=1)"
   ]
  },
  {
   "cell_type": "code",
   "execution_count": 313,
   "id": "czech-schedule",
   "metadata": {},
   "outputs": [
    {
     "name": "stdout",
     "output_type": "stream",
     "text": [
      "torch.Size([3, 4])\n",
      "torch.Size([3, 4])\n",
      "torch.Size([4, 3, 4])\n",
      "torch.Size([4, 3, 4])\n",
      "torch.Size([6, 4, 3, 4])\n",
      "torch.Size([6, 4, 3, 4])\n",
      "torch.Size([6, 4, 3, 4])\n",
      "torch.Size([6, 4, 3, 4])\n"
     ]
    }
   ],
   "source": [
    "print(dist.icdf(torch.ones(1, 1) * 0.5).shape) # Should be [3, 4]\n",
    "print(dist.icdf(torch.ones(3, 4) * 0.5).shape) # Should be [3, 4]\n",
    "print(dist.icdf(torch.ones(4, 1, 1) * 0.5).shape) # Should be [4, 3, 4]\n",
    "print(dist.icdf(torch.ones(4, 3, 4) * 0.5).shape) # Should be [4, 3, 4]\n",
    "print(dist.icdf(torch.ones(6, 4, 1, 4) * 0.5).shape) # Should be [6, 4, 3, 4]\n",
    "print(dist.icdf(torch.ones(6, 4, 1, 4) * 0.5).shape) # Should be [6, 4, 3, 4]\n",
    "print(dist.icdf(torch.ones(6, 4, 3, 1) * 0.5).shape) # Should be [6, 4, 3, 4]\n",
    "print(dist.icdf(torch.ones(6, 4, 3, 4) * 0.5).shape) # Should be [6, 4, 3, 4]"
   ]
  },
  {
   "cell_type": "code",
   "execution_count": 314,
   "id": "large-general",
   "metadata": {},
   "outputs": [
    {
     "name": "stdout",
     "output_type": "stream",
     "text": [
      "torch.Size([3, 4])\n",
      "torch.Size([3, 4])\n",
      "torch.Size([4, 3, 4])\n",
      "torch.Size([4, 3, 4])\n",
      "torch.Size([6, 4, 3, 4])\n",
      "torch.Size([6, 4, 3, 4])\n",
      "torch.Size([6, 4, 3, 4])\n",
      "torch.Size([6, 4, 3, 4])\n"
     ]
    }
   ],
   "source": [
    "print(dist.cdf(torch.ones(1, 1) * 0.5).shape) # Should be [3, 4]\n",
    "print(dist.cdf(torch.ones(3, 4) * 0.5).shape) # Should be [3, 4]\n",
    "print(dist.cdf(torch.ones(4, 1, 1) * 0.5).shape) # Should be [4, 3, 4]\n",
    "print(dist.cdf(torch.ones(4, 3, 4) * 0.5).shape) # Should be [4, 3, 4]\n",
    "print(dist.cdf(torch.ones(6, 4, 1, 4) * 0.5).shape) # Should be [6, 4, 3, 4]\n",
    "print(dist.cdf(torch.ones(6, 4, 1, 4) * 0.5).shape) # Should be [6, 4, 3, 4]\n",
    "print(dist.cdf(torch.ones(6, 4, 3, 1) * 0.5).shape) # Should be [6, 4, 3, 4]\n",
    "print(dist.cdf(torch.ones(6, 4, 3, 4) * 0.5).shape) # Should be [6, 4, 3, 4]"
   ]
  },
  {
   "cell_type": "code",
   "execution_count": 315,
   "id": "piano-recycling",
   "metadata": {},
   "outputs": [
    {
     "name": "stdout",
     "output_type": "stream",
     "text": [
      "torch.Size([3, 4])\n",
      "torch.Size([5, 4, 3, 4])\n",
      "torch.Size([5, 4, 1, 3, 4])\n",
      "torch.Size([3, 4])\n",
      "torch.Size([5, 4, 3, 4])\n",
      "torch.Size([5, 4, 1, 3, 4])\n",
      "torch.Size([10, 3, 4])\n"
     ]
    }
   ],
   "source": [
    "print(dist.rsample().shape) # Should be [3, 4]\n",
    "print(dist.rsample([5, 4]).shape) # Should be [5, 4, 3, 4]\n",
    "print(dist.rsample([5, 4, 1]).shape) # Should be [5, 4, 1, 3, 4]\n",
    "print(dist.sample().shape) # Should be [3, 2]\n",
    "print(dist.sample([5, 4]).shape) # Should be [5, 4, 3, 4]\n",
    "print(dist.sample([5, 4, 1]).shape) # Should be [5, 4, 1, 3, 4]\n",
    "print(dist.sample_n(10).shape)  # Should be [10, 3, 4]"
   ]
  },
  {
   "cell_type": "code",
   "execution_count": null,
   "id": "incorporated-video",
   "metadata": {},
   "outputs": [],
   "source": []
  },
  {
   "cell_type": "code",
   "execution_count": null,
   "id": "corporate-cisco",
   "metadata": {},
   "outputs": [],
   "source": []
  }
 ],
 "metadata": {
  "kernelspec": {
   "display_name": "Python 3",
   "language": "python",
   "name": "python3"
  },
  "language_info": {
   "codemirror_mode": {
    "name": "ipython",
    "version": 3
   },
   "file_extension": ".py",
   "mimetype": "text/x-python",
   "name": "python",
   "nbconvert_exporter": "python",
   "pygments_lexer": "ipython3",
   "version": "3.8.3"
  }
 },
 "nbformat": 4,
 "nbformat_minor": 5
}
