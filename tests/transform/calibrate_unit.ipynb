{
 "cells": [
  {
   "cell_type": "code",
   "execution_count": 1,
   "id": "logical-feature",
   "metadata": {},
   "outputs": [
    {
     "name": "stdout",
     "output_type": "stream",
     "text": [
      "torchuq.transform.basic\n"
     ]
    }
   ],
   "source": [
    "import torch\n",
    "import sys\n",
    "sys.path.append('../..')\n",
    "\n",
    "from torchuq.transform.calibrate import *\n",
    "from torchuq.metric.categorical import *"
   ]
  },
  {
   "cell_type": "code",
   "execution_count": 2,
   "id": "personalized-hollywood",
   "metadata": {},
   "outputs": [],
   "source": [
    "device = torch.device('cuda:0')\n",
    "n_samples = 10000\n",
    "n_classes = 10"
   ]
  },
  {
   "cell_type": "code",
   "execution_count": 3,
   "id": "boring-stretch",
   "metadata": {},
   "outputs": [],
   "source": [
    "predictions = torch.rand(n_samples, n_classes).to(device) ** 6\n",
    "predictions /= predictions.sum(dim=1, keepdims=True)\n",
    "labels = torch.multinomial(predictions, num_samples=1).flatten()\n",
    "\n",
    "# Introduce some distribution shift\n",
    "predictions = predictions.sqrt() \n",
    "predictions[:, 0] += 0.2\n",
    "predictions[:, 3] += 0.2\n",
    "predictions /= predictions.sum(dim=1, keepdims=True)\n",
    "\n",
    "train_pred = predictions[:n_samples//2]\n",
    "train_labels = labels[:n_samples//2]\n",
    "test_pred = predictions[n_samples//2:]\n",
    "test_labels = labels[n_samples//2:]"
   ]
  },
  {
   "cell_type": "code",
   "execution_count": 4,
   "id": "eastern-honolulu",
   "metadata": {},
   "outputs": [
    {
     "data": {
      "image/png": "[encoded data removed]",
      "text/plain": [
       "<Figure size 432x288 with 1 Axes>"
      ]
     },
     "metadata": {
      "needs_background": "light"
     },
     "output_type": "display_data"
    }
   ],
   "source": [
    "plot_calibration_bin(predictions, labels)"
   ]
  },
  {
   "cell_type": "code",
   "execution_count": 5,
   "id": "secure-sudan",
   "metadata": {},
   "outputs": [
    {
     "name": "stdout",
     "output_type": "stream",
     "text": [
      "_change_device is deprecated \n",
      "Finished training 0 epochs, lr=0.00100, nll = 3.244, reg = 3.688\n",
      "Finished training 10 epochs, lr=0.00100, nll = 1.896, reg = 1.891\n",
      "Finished training 20 epochs, lr=0.00100, nll = 1.648, reg = 1.008\n",
      "Finished training 30 epochs, lr=0.00100, nll = 1.527, reg = 0.588\n",
      "Finished training 40 epochs, lr=0.00100, nll = 1.450, reg = 0.378\n",
      "Finished training 50 epochs, lr=0.00100, nll = 1.399, reg = 0.248\n",
      "Finished training 60 epochs, lr=0.00100, nll = 1.363, reg = 0.171\n",
      "Finished training 70 epochs, lr=0.00100, nll = 1.338, reg = 0.125\n",
      "Finished training 80 epochs, lr=0.00100, nll = 1.321, reg = 0.099\n",
      "Finished training 90 epochs, lr=0.00100, nll = 1.309, reg = 0.078\n",
      "Finished training 100 epochs, lr=0.00100, nll = 1.300, reg = 0.069\n",
      "Finished training 110 epochs, lr=0.00100, nll = 1.294, reg = 0.063\n",
      "Finished training 120 epochs, lr=0.00100, nll = 1.290, reg = 0.063\n",
      "Finished training 130 epochs, lr=0.00100, nll = 1.286, reg = 0.062\n",
      "Finished training 140 epochs, lr=0.00050, nll = 1.283, reg = 0.058\n",
      "Finished training 150 epochs, lr=0.00025, nll = 1.283, reg = 0.062\n",
      "Finished training 160 epochs, lr=0.00013, nll = 1.282, reg = 0.061\n",
      "Finished training 170 epochs, lr=0.00006, nll = 1.281, reg = 0.061\n",
      "Finished training 180 epochs, lr=0.00003, nll = 1.281, reg = 0.062\n",
      "Finished training 190 epochs, lr=0.00003, nll = 1.281, reg = 0.061\n",
      "Finished training 200 epochs, lr=0.00002, nll = 1.281, reg = 0.062\n"
     ]
    },
    {
     "data": {
      "text/plain": [
       "<torchuq.transform.utils.PerformanceRecord at 0x7fcfe0e66fd0>"
      ]
     },
     "execution_count": 5,
     "metadata": {},
     "output_type": "execute_result"
    }
   ],
   "source": [
    "calibrator = DirichletCalibrator(verbose=True)\n",
    "calibrator.train(predictions, labels)"
   ]
  },
  {
   "cell_type": "code",
   "execution_count": 6,
   "id": "usual-memorabilia",
   "metadata": {},
   "outputs": [
    {
     "name": "stdout",
     "output_type": "stream",
     "text": [
      "_change_device is deprecated \n"
     ]
    },
    {
     "data": {
      "image/png": "[encoded data removed]",
      "text/plain": [
       "<Figure size 432x288 with 1 Axes>"
      ]
     },
     "metadata": {
      "needs_background": "light"
     },
     "output_type": "display_data"
    }
   ],
   "source": [
    "predictions_cal = calibrator(predictions)\n",
    "plot_calibration_bin(predictions_cal, labels)"
   ]
  },
  {
   "cell_type": "code",
   "execution_count": null,
   "id": "australian-corps",
   "metadata": {},
   "outputs": [],
   "source": []
  }
 ],
 "metadata": {
  "kernelspec": {
   "display_name": "Python 3",
   "language": "python",
   "name": "python3"
  },
  "language_info": {
   "codemirror_mode": {
    "name": "ipython",
    "version": 3
   },
   "file_extension": ".py",
   "mimetype": "text/x-python",
   "name": "python",
   "nbconvert_exporter": "python",
   "pygments_lexer": "ipython3",
   "version": "3.8.3"
  }
 },
 "nbformat": 4,
 "nbformat_minor": 5
}
