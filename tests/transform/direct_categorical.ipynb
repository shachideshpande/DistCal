{
 "cells": [
  {
   "cell_type": "code",
   "execution_count": 1,
   "id": "cheap-essay",
   "metadata": {},
   "outputs": [],
   "source": [
    "import torch\n",
    "import sys\n",
    "sys.path.append('../..')\n",
    "from torchuq.transform.direct import *"
   ]
  },
  {
   "cell_type": "code",
   "execution_count": 2,
   "id": "large-biodiversity",
   "metadata": {},
   "outputs": [
    {
     "name": "stdout",
     "output_type": "stream",
     "text": [
      "tensor([1.2071e-01, 9.0477e-02, 5.8244e-02, 3.5635e-01, 2.3840e-02, 3.3194e-04,\n",
      "        2.0305e-02, 3.9705e-03, 7.7153e-03, 3.1805e-01])\n"
     ]
    }
   ],
   "source": [
    "predictions = torch.rand(1000, 10) ** 2\n",
    "predictions = predictions / predictions.sum(dim=1, keepdims=True)\n",
    "print(predictions[0])"
   ]
  },
  {
   "cell_type": "code",
   "execution_count": 3,
   "id": "outstanding-starter",
   "metadata": {},
   "outputs": [
    {
     "name": "stdout",
     "output_type": "stream",
     "text": [
      "tensor(0.1498)\n",
      "tensor(5.9605e-08)\n",
      "tensor(0.5001)\n",
      "tensor(0.4999)\n",
      "tensor(0.9000)\n",
      "tensor(0.9000)\n",
      "tensor(0.9801)\n",
      "tensor(0.9800)\n",
      "tensor(0.9900)\n",
      "tensor(0.9900)\n",
      "tensor(1.0000)\n",
      "tensor(1.0000)\n"
     ]
    }
   ],
   "source": [
    "# Test categorical to uset\n",
    "for threshold in [0.0001, 0.5, 0.9, 0.98, 0.99, 0.99999]:\n",
    "    setpred = categorical_to_uset(predictions, threshold=threshold)\n",
    "    # Check that the total probability indeed exceeds the threshold\n",
    "    total_prob = (predictions * setpred).sum(dim=1)\n",
    "    print(total_prob.min())\n",
    "    assert (total_prob >= threshold).all()\n",
    "    \n",
    "    # Check that removing any item fails to exceed the threshold\n",
    "    min_elem = (predictions * setpred + 1 - setpred).min(dim=1)[0]\n",
    "    sum_minus_one = (predictions * setpred).sum(dim=1) - min_elem\n",
    "    print(sum_minus_one.max())\n",
    "    assert (sum_minus_one <= threshold).all()\n"
   ]
  },
  {
   "cell_type": "code",
   "execution_count": 4,
   "id": "theoretical-joining",
   "metadata": {},
   "outputs": [
    {
     "name": "stdout",
     "output_type": "stream",
     "text": [
      "torch.Size([1000, 10])\n"
     ]
    }
   ],
   "source": [
    "# Test topk to uset\n",
    "topkpred = categorical_to_topk(predictions, k=10)\n",
    "usetpred = topk_to_uset(topkpred)\n",
    "print(usetpred.shape)\n",
    "assert usetpred.sum(dim=1).max() == 10 and usetpred.sum(dim=1).min() == 10"
   ]
  },
  {
   "cell_type": "code",
   "execution_count": null,
   "id": "universal-trace",
   "metadata": {},
   "outputs": [],
   "source": []
  }
 ],
 "metadata": {
  "kernelspec": {
   "display_name": "Python 3",
   "language": "python",
   "name": "python3"
  },
  "language_info": {
   "codemirror_mode": {
    "name": "ipython",
    "version": 3
   },
   "file_extension": ".py",
   "mimetype": "text/x-python",
   "name": "python",
   "nbconvert_exporter": "python",
   "pygments_lexer": "ipython3",
   "version": "3.8.3"
  }
 },
 "nbformat": 4,
 "nbformat_minor": 5
}
